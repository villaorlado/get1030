{
 "cells": [
  {
   "cell_type": "markdown",
   "metadata": {},
   "source": [
    "### *GET1030 Computers and the Humanities*, week #4"
   ]
  },
  {
   "cell_type": "markdown",
   "metadata": {},
   "source": [
    "# Fundamentals of Python for data visualization"
   ]
  },
  {
   "cell_type": "markdown",
   "metadata": {},
   "source": [
    "As noted in the lecture, the goal of this notebook is to teach you \"survival Python\" - enough for you to create a wide range of visualizations. But we will be skipping many core features of Python. \n",
    "\n",
    "If you prefer a tutorial that covers all the fundamentals of Python (but which is much longer), please see [this resource](https://allendowney.github.io/ElementsOfDataScience/)"
   ]
  },
  {
   "cell_type": "markdown",
   "metadata": {},
   "source": [
    "At it's most basic, a programming language like Python enables us to do mathematical calculations. You can type in directly a number, an addition operator, and another number (as you would do in a calculator) and a result will come up."
   ]
  },
  {
   "cell_type": "code",
   "execution_count": 1,
   "metadata": {
    "scrolled": false
   },
   "outputs": [
    {
     "data": {
      "text/plain": [
       "12"
      ]
     },
     "execution_count": 1,
     "metadata": {},
     "output_type": "execute_result"
    }
   ],
   "source": [
    "5 + 7"
   ]
  },
  {
   "cell_type": "markdown",
   "metadata": {},
   "source": [
    "*If you want to know more about how to do more arithmetic opeartions in Python, click here."
   ]
  },
  {
   "cell_type": "markdown",
   "metadata": {},
   "source": [
    "### Variables"
   ]
  },
  {
   "cell_type": "markdown",
   "metadata": {},
   "source": [
    "Variables are one of the most fundamental concepts in programming. A variable is like a box than can contain numbers, text, images or geolocations. The advantage of working with variables rather than with the data themselves is that we can describe logical operations to be operated on these boxes at a more abstract level, and we can reuse those instructions in many different scenarios.\n",
    "\n",
    "To define variables in Python, you can choose any combination of letters and numbers as long as it follows certain rules: \n",
    "\n",
    "\n",
    "* A variable name must start with a letter or the underscore character\n",
    "* A variable name cannot start with a number\n",
    "* A variable name can only contain alpha-numeric characters and underscores (A-z, 0-9, and _ )\n",
    "* Variable names are case-sensitive (age, Age and AGE are three different variables)\n",
    "\n",
    "Then you can assign a value to that data with the **=** operator, as follows."
   ]
  },
  {
   "cell_type": "code",
   "execution_count": 2,
   "metadata": {},
   "outputs": [],
   "source": [
    "x = 5\n",
    "y = 7"
   ]
  },
  {
   "cell_type": "markdown",
   "metadata": {},
   "source": [
    "*For more on the different types of variables supported by Python [click here](https://www.w3schools.com/python/python_variables.asp)."
   ]
  },
  {
   "cell_type": "markdown",
   "metadata": {},
   "source": [
    "One you can defined a set of variables, you can specificy an operation to be performed on these variables at a more abstract level. This is similar to what happens in algebra."
   ]
  },
  {
   "cell_type": "code",
   "execution_count": 3,
   "metadata": {
    "scrolled": true
   },
   "outputs": [
    {
     "data": {
      "text/plain": [
       "12"
      ]
     },
     "execution_count": 3,
     "metadata": {},
     "output_type": "execute_result"
    }
   ],
   "source": [
    "x + y"
   ]
  },
  {
   "cell_type": "markdown",
   "metadata": {},
   "source": [
    "### Functions"
   ]
  },
  {
   "cell_type": "markdown",
   "metadata": {},
   "source": [
    "Functions are fundamental building blocks of python. A funciton is a series of instructions that are encapsulated together, so that they can be reused in the future."
   ]
  },
  {
   "cell_type": "markdown",
   "metadata": {},
   "source": [
    "To create a function we use the keyword **def**. In the opening line we specify the name we want to give our funciton, which can be anything, as long as we follow some rules:\n",
    "* They must start with a letter or an underscore: _.\n",
    "* They should be lowercase.\n",
    "* They can have numbers.\n",
    "* They can be any length (within reason), but keep them short.\n",
    "* They can’t be the same as a Python keyword, such as **def**.\n",
    "\n",
    "\n",
    "Then in between brackets () we can specify some **parameters**, which are similar to variables, but which will only exist within the limits of our function."
   ]
  },
  {
   "cell_type": "code",
   "execution_count": 4,
   "metadata": {},
   "outputs": [],
   "source": [
    "def add(x,y):\n",
    "    result = x + y\n",
    "    print(result)"
   ]
  },
  {
   "cell_type": "code",
   "execution_count": 5,
   "metadata": {
    "scrolled": true
   },
   "outputs": [
    {
     "name": "stdout",
     "output_type": "stream",
     "text": [
      "12\n"
     ]
    }
   ],
   "source": [
    "add(4,8)"
   ]
  },
  {
   "cell_type": "code",
   "execution_count": 6,
   "metadata": {
    "scrolled": true
   },
   "outputs": [
    {
     "name": "stdout",
     "output_type": "stream",
     "text": [
      "11\n"
     ]
    }
   ],
   "source": [
    "add(5,6)"
   ]
  },
  {
   "cell_type": "markdown",
   "metadata": {},
   "source": [
    "*For more on functions, [click here](https://www.w3schools.com/python/python_functions.asp)"
   ]
  },
  {
   "cell_type": "markdown",
   "metadata": {},
   "source": [
    "### Importing libraries"
   ]
  },
  {
   "cell_type": "markdown",
   "metadata": {},
   "source": [
    "Pandas are collections of functions that extend the functionality of a programming language.\n",
    "\n",
    "PANDAS (Python for Data Science) is a common library for data analysis and visualization. To import the library, you must have first installed it (see the installation instructions video). \n",
    "\n",
    "Then you can use the **import** command to bring it into your current notebook. It is a convention to import PANDAS as **pd**. This means that every time you need a PANDAS function you can write just write 'pd', which is shorter."
   ]
  },
  {
   "cell_type": "code",
   "execution_count": 7,
   "metadata": {},
   "outputs": [],
   "source": [
    "import pandas as pd"
   ]
  },
  {
   "cell_type": "markdown",
   "metadata": {},
   "source": [
    "We are now going to use pandas to create a **Data Frame**. A Data frame provides us with a way to store data in ways that are more complex than a normal variable. Data frames can be thought of as rectangular grids, similar to a spreadsheet like the one you find in Excel. The main components of a data frame are the **index** (or \"row names\"), the **columns** (think of them as the \"column names\") and the **data** (the content of each cell)."
   ]
  },
  {
   "cell_type": "markdown",
   "metadata": {},
   "source": [
    "There are many ways to creat arrays with Pandas, but here we are only interested in how to export excel files as Data Frames, using the following command.\n",
    "\n",
    "(We are going to use a sample dataset of films in languages other than English, taken from IMDB, which is also found in this week's materials.)\n",
    "\n",
    "**For this to work, please note that the Excel file needs to be in the same folder as your Python Notebook.*"
   ]
  },
  {
   "cell_type": "code",
   "execution_count": 8,
   "metadata": {},
   "outputs": [],
   "source": [
    "df = pd.read_excel(\"data/worldFilms.xlsx\")"
   ]
  },
  {
   "cell_type": "markdown",
   "metadata": {},
   "source": [
    "*If you are interested in other ways to create data frames, you can look at [this tutorial](https://nbviewer.jupyter.org/github/AllenDowney/ElementsOfDataScience/blob/master/07_dataframes.ipynb) or at the [official documentation page](https://pandas.pydata.org/pandas-docs/stable/reference/api/pandas.DataFrame.html)."
   ]
  },
  {
   "cell_type": "markdown",
   "metadata": {},
   "source": [
    "We have named our Data Frame as **df**. To explore its contents, simply write \"df\". Note that a central chunk of the rows has been omitted but "
   ]
  },
  {
   "cell_type": "code",
   "execution_count": 9,
   "metadata": {},
   "outputs": [
    {
     "data": {
      "text/html": [
       "<div>\n",
       "<style scoped>\n",
       "    .dataframe tbody tr th:only-of-type {\n",
       "        vertical-align: middle;\n",
       "    }\n",
       "\n",
       "    .dataframe tbody tr th {\n",
       "        vertical-align: top;\n",
       "    }\n",
       "\n",
       "    .dataframe thead th {\n",
       "        text-align: right;\n",
       "    }\n",
       "</style>\n",
       "<table border=\"1\" class=\"dataframe\">\n",
       "  <thead>\n",
       "    <tr style=\"text-align: right;\">\n",
       "      <th></th>\n",
       "      <th>id</th>\n",
       "      <th>vote_average</th>\n",
       "      <th>vote_count</th>\n",
       "      <th>budget</th>\n",
       "      <th>revenue</th>\n",
       "      <th>runtime</th>\n",
       "      <th>lan</th>\n",
       "      <th>date</th>\n",
       "    </tr>\n",
       "  </thead>\n",
       "  <tbody>\n",
       "    <tr>\n",
       "      <td>0</td>\n",
       "      <td>1</td>\n",
       "      <td>5.0</td>\n",
       "      <td>471</td>\n",
       "      <td>97250400</td>\n",
       "      <td>132900000</td>\n",
       "      <td>116</td>\n",
       "      <td>fr</td>\n",
       "      <td>2008-01-01</td>\n",
       "    </tr>\n",
       "    <tr>\n",
       "      <td>1</td>\n",
       "      <td>2</td>\n",
       "      <td>7.1</td>\n",
       "      <td>187</td>\n",
       "      <td>94000000</td>\n",
       "      <td>95311434</td>\n",
       "      <td>145</td>\n",
       "      <td>zh</td>\n",
       "      <td>2011-01-01</td>\n",
       "    </tr>\n",
       "    <tr>\n",
       "      <td>2</td>\n",
       "      <td>3</td>\n",
       "      <td>6.2</td>\n",
       "      <td>367</td>\n",
       "      <td>60000000</td>\n",
       "      <td>66976317</td>\n",
       "      <td>148</td>\n",
       "      <td>fr</td>\n",
       "      <td>1999-01-01</td>\n",
       "    </tr>\n",
       "    <tr>\n",
       "      <td>3</td>\n",
       "      <td>4</td>\n",
       "      <td>7.2</td>\n",
       "      <td>635</td>\n",
       "      <td>31000000</td>\n",
       "      <td>177394432</td>\n",
       "      <td>99</td>\n",
       "      <td>zh</td>\n",
       "      <td>2002-01-01</td>\n",
       "    </tr>\n",
       "    <tr>\n",
       "      <td>4</td>\n",
       "      <td>5</td>\n",
       "      <td>6.8</td>\n",
       "      <td>148</td>\n",
       "      <td>33000000</td>\n",
       "      <td>14000000</td>\n",
       "      <td>100</td>\n",
       "      <td>fr</td>\n",
       "      <td>2009-01-01</td>\n",
       "    </tr>\n",
       "    <tr>\n",
       "      <td>...</td>\n",
       "      <td>...</td>\n",
       "      <td>...</td>\n",
       "      <td>...</td>\n",
       "      <td>...</td>\n",
       "      <td>...</td>\n",
       "      <td>...</td>\n",
       "      <td>...</td>\n",
       "      <td>...</td>\n",
       "    </tr>\n",
       "    <tr>\n",
       "      <td>82</td>\n",
       "      <td>83</td>\n",
       "      <td>7.6</td>\n",
       "      <td>521</td>\n",
       "      <td>2000000</td>\n",
       "      <td>20908467</td>\n",
       "      <td>154</td>\n",
       "      <td>es</td>\n",
       "      <td>2000-01-01</td>\n",
       "    </tr>\n",
       "    <tr>\n",
       "      <td>83</td>\n",
       "      <td>84</td>\n",
       "      <td>7.3</td>\n",
       "      <td>221</td>\n",
       "      <td>1000000</td>\n",
       "      <td>4235151</td>\n",
       "      <td>104</td>\n",
       "      <td>hi</td>\n",
       "      <td>2013-01-01</td>\n",
       "    </tr>\n",
       "    <tr>\n",
       "      <td>84</td>\n",
       "      <td>85</td>\n",
       "      <td>5.9</td>\n",
       "      <td>43</td>\n",
       "      <td>1000000</td>\n",
       "      <td>10037390</td>\n",
       "      <td>107</td>\n",
       "      <td>ja</td>\n",
       "      <td>1999-01-01</td>\n",
       "    </tr>\n",
       "    <tr>\n",
       "      <td>85</td>\n",
       "      <td>86</td>\n",
       "      <td>6.1</td>\n",
       "      <td>7</td>\n",
       "      <td>1000000</td>\n",
       "      <td>623791</td>\n",
       "      <td>170</td>\n",
       "      <td>hi</td>\n",
       "      <td>2000-01-01</td>\n",
       "    </tr>\n",
       "    <tr>\n",
       "      <td>86</td>\n",
       "      <td>87</td>\n",
       "      <td>5.8</td>\n",
       "      <td>923</td>\n",
       "      <td>35000000</td>\n",
       "      <td>170000000</td>\n",
       "      <td>99</td>\n",
       "      <td>da</td>\n",
       "      <td>2008-01-01</td>\n",
       "    </tr>\n",
       "  </tbody>\n",
       "</table>\n",
       "<p>87 rows × 8 columns</p>\n",
       "</div>"
      ],
      "text/plain": [
       "    id  vote_average  vote_count    budget    revenue  runtime lan       date\n",
       "0    1           5.0         471  97250400  132900000      116  fr 2008-01-01\n",
       "1    2           7.1         187  94000000   95311434      145  zh 2011-01-01\n",
       "2    3           6.2         367  60000000   66976317      148  fr 1999-01-01\n",
       "3    4           7.2         635  31000000  177394432       99  zh 2002-01-01\n",
       "4    5           6.8         148  33000000   14000000      100  fr 2009-01-01\n",
       "..  ..           ...         ...       ...        ...      ...  ..        ...\n",
       "82  83           7.6         521   2000000   20908467      154  es 2000-01-01\n",
       "83  84           7.3         221   1000000    4235151      104  hi 2013-01-01\n",
       "84  85           5.9          43   1000000   10037390      107  ja 1999-01-01\n",
       "85  86           6.1           7   1000000     623791      170  hi 2000-01-01\n",
       "86  87           5.8         923  35000000  170000000       99  da 2008-01-01\n",
       "\n",
       "[87 rows x 8 columns]"
      ]
     },
     "execution_count": 9,
     "metadata": {},
     "output_type": "execute_result"
    }
   ],
   "source": [
    "df"
   ]
  },
  {
   "cell_type": "markdown",
   "metadata": {},
   "source": [
    "You can also choose to only see the first few rows of your data frame with the command **head()**."
   ]
  },
  {
   "cell_type": "code",
   "execution_count": 10,
   "metadata": {
    "scrolled": false
   },
   "outputs": [
    {
     "data": {
      "text/html": [
       "<div>\n",
       "<style scoped>\n",
       "    .dataframe tbody tr th:only-of-type {\n",
       "        vertical-align: middle;\n",
       "    }\n",
       "\n",
       "    .dataframe tbody tr th {\n",
       "        vertical-align: top;\n",
       "    }\n",
       "\n",
       "    .dataframe thead th {\n",
       "        text-align: right;\n",
       "    }\n",
       "</style>\n",
       "<table border=\"1\" class=\"dataframe\">\n",
       "  <thead>\n",
       "    <tr style=\"text-align: right;\">\n",
       "      <th></th>\n",
       "      <th>id</th>\n",
       "      <th>vote_average</th>\n",
       "      <th>vote_count</th>\n",
       "      <th>budget</th>\n",
       "      <th>revenue</th>\n",
       "      <th>runtime</th>\n",
       "      <th>lan</th>\n",
       "      <th>date</th>\n",
       "    </tr>\n",
       "  </thead>\n",
       "  <tbody>\n",
       "    <tr>\n",
       "      <td>0</td>\n",
       "      <td>1</td>\n",
       "      <td>5.0</td>\n",
       "      <td>471</td>\n",
       "      <td>97250400</td>\n",
       "      <td>132900000</td>\n",
       "      <td>116</td>\n",
       "      <td>fr</td>\n",
       "      <td>2008-01-01</td>\n",
       "    </tr>\n",
       "    <tr>\n",
       "      <td>1</td>\n",
       "      <td>2</td>\n",
       "      <td>7.1</td>\n",
       "      <td>187</td>\n",
       "      <td>94000000</td>\n",
       "      <td>95311434</td>\n",
       "      <td>145</td>\n",
       "      <td>zh</td>\n",
       "      <td>2011-01-01</td>\n",
       "    </tr>\n",
       "    <tr>\n",
       "      <td>2</td>\n",
       "      <td>3</td>\n",
       "      <td>6.2</td>\n",
       "      <td>367</td>\n",
       "      <td>60000000</td>\n",
       "      <td>66976317</td>\n",
       "      <td>148</td>\n",
       "      <td>fr</td>\n",
       "      <td>1999-01-01</td>\n",
       "    </tr>\n",
       "    <tr>\n",
       "      <td>3</td>\n",
       "      <td>4</td>\n",
       "      <td>7.2</td>\n",
       "      <td>635</td>\n",
       "      <td>31000000</td>\n",
       "      <td>177394432</td>\n",
       "      <td>99</td>\n",
       "      <td>zh</td>\n",
       "      <td>2002-01-01</td>\n",
       "    </tr>\n",
       "    <tr>\n",
       "      <td>4</td>\n",
       "      <td>5</td>\n",
       "      <td>6.8</td>\n",
       "      <td>148</td>\n",
       "      <td>33000000</td>\n",
       "      <td>14000000</td>\n",
       "      <td>100</td>\n",
       "      <td>fr</td>\n",
       "      <td>2009-01-01</td>\n",
       "    </tr>\n",
       "  </tbody>\n",
       "</table>\n",
       "</div>"
      ],
      "text/plain": [
       "   id  vote_average  vote_count    budget    revenue  runtime lan       date\n",
       "0   1           5.0         471  97250400  132900000      116  fr 2008-01-01\n",
       "1   2           7.1         187  94000000   95311434      145  zh 2011-01-01\n",
       "2   3           6.2         367  60000000   66976317      148  fr 1999-01-01\n",
       "3   4           7.2         635  31000000  177394432       99  zh 2002-01-01\n",
       "4   5           6.8         148  33000000   14000000      100  fr 2009-01-01"
      ]
     },
     "execution_count": 10,
     "metadata": {},
     "output_type": "execute_result"
    }
   ],
   "source": [
    "df.head()"
   ]
  },
  {
   "cell_type": "markdown",
   "metadata": {},
   "source": [
    "To retrieve the values of a specific column, you can type the name of that column in inverted commas \"\" within square brackets [], immediately after the name of your data frame (this will come in handy later)."
   ]
  },
  {
   "cell_type": "code",
   "execution_count": 11,
   "metadata": {},
   "outputs": [
    {
     "data": {
      "text/plain": [
       "0     5.0\n",
       "1     7.1\n",
       "2     6.2\n",
       "3     7.2\n",
       "4     6.8\n",
       "     ... \n",
       "82    7.6\n",
       "83    7.3\n",
       "84    5.9\n",
       "85    6.1\n",
       "86    5.8\n",
       "Name: vote_average, Length: 87, dtype: float64"
      ]
     },
     "execution_count": 11,
     "metadata": {},
     "output_type": "execute_result"
    }
   ],
   "source": [
    "df[\"vote_average\"]"
   ]
  },
  {
   "cell_type": "markdown",
   "metadata": {},
   "source": [
    "*There are more complex ways to retrieve information from a data frame, by combining columns, or by only selecting values that meet a certain criteria. For more on how to do this, see [here](https://datacarpentry.org/python-ecology-lesson/03-index-slice-subset/)."
   ]
  },
  {
   "cell_type": "markdown",
   "metadata": {},
   "source": [
    "## Visualizing data"
   ]
  },
  {
   "cell_type": "markdown",
   "metadata": {},
   "source": [
    "For visualizing data, we are going to use two other libraries, called **Seaborn** and **Matplotlib**. The steps should now be familiar."
   ]
  },
  {
   "cell_type": "code",
   "execution_count": 12,
   "metadata": {},
   "outputs": [],
   "source": [
    "import seaborn as sns\n",
    "import matplotlib.pyplot as plt"
   ]
  },
  {
   "cell_type": "markdown",
   "metadata": {},
   "source": [
    "*For more information, please refer to the [official Seaborn tutorials](https://seaborn.pydata.org/tutorial.html)\n",
    "*Seaborn is built on top of Matplotlib. To understand how the visualizations work at a deeper level, please see the [official Matplotlib tutorial](https://matplotlib.org/tutorials/introductory/pyplot.html)"
   ]
  },
  {
   "cell_type": "markdown",
   "metadata": {},
   "source": [
    "### Barplots"
   ]
  },
  {
   "cell_type": "markdown",
   "metadata": {},
   "source": [
    "We are now going to see a few types of data visualization. Each one will take a few parameters (similar to arguments in the functions we saw earlier). To create a bar plot, we specify three parameters:\n",
    "* x = the categories to be displayed in the x axis\n",
    "* y = the values to be graphed\n",
    "* data = the source of the data, in this case the data frame we created earlier, by exporting data from Excel."
   ]
  },
  {
   "cell_type": "code",
   "execution_count": 13,
   "metadata": {
    "scrolled": false
   },
   "outputs": [
    {
     "data": {
      "image/png": "[encoded data removed]",
      "text/plain": [
       "<Figure size 432x288 with 1 Axes>"
      ]
     },
     "metadata": {
      "needs_background": "light"
     },
     "output_type": "display_data"
    }
   ],
   "source": [
    "ax = sns.barplot(x=\"lan\",y=\"runtime\", data=df)"
   ]
  },
  {
   "cell_type": "markdown",
   "metadata": {},
   "source": [
    "As a convention we often assign the visualization to a variable, so that we can do other things with it. In many tutorials, **ax** is used as a naming convention for this variable. This is because seaborn creates an instance of something called an 'axis'. To learn more about why, click here."
   ]
  },
  {
   "cell_type": "markdown",
   "metadata": {},
   "source": [
    "Sometimes we might want to save the resulting graph as a separate image. For this, we can add one additional line of code, where we specify the name for our desired file, and the resolution."
   ]
  },
  {
   "cell_type": "code",
   "execution_count": 14,
   "metadata": {},
   "outputs": [
    {
     "data": {
      "image/png": "[encoded data removed]",
      "text/plain": [
       "<Figure size 432x288 with 1 Axes>"
      ]
     },
     "metadata": {
      "needs_background": "light"
     },
     "output_type": "display_data"
    }
   ],
   "source": [
    "ax = sns.barplot(x=\"lan\",y=\"runtime\", data=df)\n",
    "plt.savefig(\"barplot.jpg\",dpi=300)"
   ]
  },
  {
   "cell_type": "markdown",
   "metadata": {},
   "source": [
    "*Find out more about barplots [here](https://seaborn.pydata.org/generated/seaborn.barplot.html)."
   ]
  },
  {
   "cell_type": "markdown",
   "metadata": {},
   "source": [
    "## Distplots"
   ]
  },
  {
   "cell_type": "markdown",
   "metadata": {},
   "source": [
    "Distplots combine a histogram, a KDE and, if rug is set to True, also a rugplot.\n",
    "\n",
    "Notice that here the syntax is a bit different. The first argument we pass to our function is the column we want to plot (using the notation we saw above), followed by any additional arguments."
   ]
  },
  {
   "cell_type": "code",
   "execution_count": 15,
   "metadata": {},
   "outputs": [
    {
     "data": {
      "image/png": "[encoded data removed]",
      "text/plain": [
       "<Figure size 432x288 with 1 Axes>"
      ]
     },
     "metadata": {
      "needs_background": "light"
     },
     "output_type": "display_data"
    }
   ],
   "source": [
    "ax = sns.distplot(df[\"vote_average\"], rug=True)"
   ]
  },
  {
   "cell_type": "markdown",
   "metadata": {},
   "source": [
    "To learn more about distribution plots, click [here](https://seaborn.pydata.org/generated/seaborn.distplot.html?highlight=distplot#seaborn.distplot)."
   ]
  },
  {
   "cell_type": "markdown",
   "metadata": {},
   "source": [
    "## Scatterplot"
   ]
  },
  {
   "cell_type": "code",
   "execution_count": 16,
   "metadata": {},
   "outputs": [
    {
     "data": {
      "image/png": "[encoded data removed]",
      "text/plain": [
       "<Figure size 432x288 with 1 Axes>"
      ]
     },
     "metadata": {
      "needs_background": "light"
     },
     "output_type": "display_data"
    }
   ],
   "source": [
    "ax = sns.scatterplot(x=\"budget\", y=\"revenue\",data=df)"
   ]
  },
  {
   "cell_type": "markdown",
   "metadata": {},
   "source": [
    "To learn more about scatterplots, click [here](https://seaborn.pydata.org/generated/seaborn.scatterplot.html)."
   ]
  },
  {
   "cell_type": "markdown",
   "metadata": {},
   "source": [
    "## Lineplot"
   ]
  },
  {
   "cell_type": "code",
   "execution_count": 17,
   "metadata": {},
   "outputs": [],
   "source": [
    "from pandas.plotting import register_matplotlib_converters\n",
    "register_matplotlib_converters()"
   ]
  },
  {
   "cell_type": "code",
   "execution_count": 18,
   "metadata": {
    "scrolled": true
   },
   "outputs": [
    {
     "data": {
      "image/png": "[encoded data removed]",
      "text/plain": [
       "<Figure size 432x288 with 1 Axes>"
      ]
     },
     "metadata": {
      "needs_background": "light"
     },
     "output_type": "display_data"
    }
   ],
   "source": [
    "ax = sns.lineplot(x=\"date\",y=\"vote_average\", data=df)"
   ]
  },
  {
   "cell_type": "markdown",
   "metadata": {},
   "source": [
    "To learn more about lineplots, click [here](https://seaborn.pydata.org/generated/seaborn.lineplot.html)."
   ]
  },
  {
   "cell_type": "markdown",
   "metadata": {},
   "source": [
    "## Boxplot"
   ]
  },
  {
   "cell_type": "code",
   "execution_count": 19,
   "metadata": {
    "scrolled": false
   },
   "outputs": [
    {
     "data": {
      "image/png": "[encoded data removed]",
      "text/plain": [
       "<Figure size 432x288 with 1 Axes>"
      ]
     },
     "metadata": {
      "needs_background": "light"
     },
     "output_type": "display_data"
    }
   ],
   "source": [
    "ax = sns.boxplot(df[\"revenue\"])"
   ]
  },
  {
   "cell_type": "markdown",
   "metadata": {},
   "source": [
    "If you want to change the orientation of the boxplot, you can set the *orient* parameter to \"v\" (for vertical)"
   ]
  },
  {
   "cell_type": "code",
   "execution_count": 20,
   "metadata": {
    "scrolled": true
   },
   "outputs": [
    {
     "data": {
      "image/png": "[encoded data removed]",
      "text/plain": [
       "<Figure size 432x288 with 1 Axes>"
      ]
     },
     "metadata": {
      "needs_background": "light"
     },
     "output_type": "display_data"
    }
   ],
   "source": [
    "ax = sns.boxplot(df[\"revenue\"],orient=\"v\")"
   ]
  },
  {
   "cell_type": "markdown",
   "metadata": {},
   "source": [
    "To see each data point, a boxplot can be combined with a 'swarmplot'. The following command overlays a swarmplot on top of a boxplot."
   ]
  },
  {
   "cell_type": "code",
   "execution_count": 21,
   "metadata": {
    "scrolled": true
   },
   "outputs": [
    {
     "data": {
      "image/png": "[encoded data removed]",
      "text/plain": [
       "<Figure size 432x288 with 1 Axes>"
      ]
     },
     "metadata": {
      "needs_background": "light"
     },
     "output_type": "display_data"
    }
   ],
   "source": [
    "ax = sns.boxplot(df[\"revenue\"])\n",
    "ax = sns.swarmplot(df[\"revenue\"])"
   ]
  },
  {
   "cell_type": "markdown",
   "metadata": {},
   "source": [
    "But the difficult color scheme makes this hard to see, so we can change the color of the box plot, with the **color** argument."
   ]
  },
  {
   "cell_type": "code",
   "execution_count": 23,
   "metadata": {},
   "outputs": [
    {
     "data": {
      "image/png": "[encoded data removed]",
      "text/plain": [
       "<Figure size 432x288 with 1 Axes>"
      ]
     },
     "metadata": {
      "needs_background": "light"
     },
     "output_type": "display_data"
    }
   ],
   "source": [
    "ax = sns.boxplot(df[\"revenue\"],color=\"white\")\n",
    "ax = sns.swarmplot(df[\"revenue\"])"
   ]
  },
  {
   "cell_type": "markdown",
   "metadata": {},
   "source": [
    "To learn more about boxplots, click [here](https://seaborn.pydata.org/generated/seaborn.boxplot.html)"
   ]
  },
  {
   "cell_type": "markdown",
   "metadata": {},
   "source": [
    "## Violinplot"
   ]
  },
  {
   "cell_type": "code",
   "execution_count": 22,
   "metadata": {
    "scrolled": false
   },
   "outputs": [
    {
     "data": {
      "image/png": "[encoded data removed]",
      "text/plain": [
       "<Figure size 432x288 with 1 Axes>"
      ]
     },
     "metadata": {
      "needs_background": "light"
     },
     "output_type": "display_data"
    }
   ],
   "source": [
    "ax = sns.violinplot(df[\"revenue\"])"
   ]
  },
  {
   "cell_type": "markdown",
   "metadata": {},
   "source": [
    "Another way to change colors is by using a palette. You can create a palette or choose from a number of default palettes (as explained [here](https://seaborn.pydata.org/tutorial/color_palettes.html)). In the example below we are creating a palette variable (\"val\" in our case but it can be anything you choose) and then setting it tothe  **palette** argument in the violinplot. "
   ]
  },
  {
   "cell_type": "code",
   "execution_count": 47,
   "metadata": {
    "scrolled": true
   },
   "outputs": [
    {
     "data": {
      "image/png": "[encoded data removed]",
      "text/plain": [
       "<Figure size 432x288 with 1 Axes>"
      ]
     },
     "metadata": {
      "needs_background": "light"
     },
     "output_type": "display_data"
    }
   ],
   "source": [
    "pal = sns.light_palette(\"green\")\n",
    "ax = sns.violinplot(df[\"revenue\"],palette=pal)"
   ]
  },
  {
   "cell_type": "markdown",
   "metadata": {},
   "source": [
    "To learn more about violinplits, click [here](https://seaborn.pydata.org/generated/seaborn.violinplot.html)"
   ]
  },
  {
   "cell_type": "markdown",
   "metadata": {},
   "source": [
    "## Changing the visual appearance of the graphs"
   ]
  },
  {
   "cell_type": "markdown",
   "metadata": {},
   "source": [
    "Beyond [Changing colors](https://seaborn.pydata.org/tutorial/color_palettes.html) you can also control many other [figure aesthetics](https://seaborn.pydata.org/tutorial/aesthetics.html).\n",
    "\n",
    "Seaborn comes with many readymade visualizations. But if you want to tweak how they look and create your own visualizatoins (for example with overlaid graphs), you can access more functions directly from Matplotlib. Here are some useful tutorials:\n",
    "\n",
    "* [Multiple subplots](https://jakevdp.github.io/PythonDataScienceHandbook/04.08-multiple-subplots.html)\n",
    "* [Text and annotation](https://jakevdp.github.io/PythonDataScienceHandbook/04.09-text-and-annotation.html)\n",
    "* [Customizing ticks](https://jakevdp.github.io/PythonDataScienceHandbook/04.09-text-and-annotation.html)\n",
    "\n",
    "In order to make interactive graphs, you can try out [Bokeh](https://docs.bokeh.org/en/latest/index.html)"
   ]
  }
 ],
 "metadata": {
  "kernelspec": {
   "display_name": "Python 3",
   "language": "python",
   "name": "python3"
  },
  "language_info": {
   "codemirror_mode": {
    "name": "ipython",
    "version": 3
   },
   "file_extension": ".py",
   "mimetype": "text/x-python",
   "name": "python",
   "nbconvert_exporter": "python",
   "pygments_lexer": "ipython3",
   "version": "3.7.4"
  }
 },
 "nbformat": 4,
 "nbformat_minor": 2
}
